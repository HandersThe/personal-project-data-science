{
  "cells": [
    {
      "cell_type": "code",
      "execution_count": 129,
      "metadata": {
        "id": "m54HEydMk1eM"
      },
      "outputs": [],
      "source": [
        "import pandas as pd\n",
        "import numpy as np\n",
        "import matplotlib.pyplot as plt\n",
        "import seaborn as sns"
      ]
    },
    {
      "cell_type": "code",
      "execution_count": 130,
      "metadata": {
        "id": "5CGQR6RGl9QG"
      },
      "outputs": [],
      "source": [
        "df = pd.read_csv(\"data/superstore_sales_dataset.csv\")"
      ]
    },
    {
      "cell_type": "code",
      "execution_count": 131,
      "metadata": {
        "colab": {
          "base_uri": "https://localhost:8080/",
          "height": 556
        },
        "id": "FXaJeoSZmCG4",
        "outputId": "f44cc019-d12b-4715-e2da-e51a43aa99bf"
      },
      "outputs": [
        {
          "data": {
            "text/html": [
              "<div>\n",
              "<style scoped>\n",
              "    .dataframe tbody tr th:only-of-type {\n",
              "        vertical-align: middle;\n",
              "    }\n",
              "\n",
              "    .dataframe tbody tr th {\n",
              "        vertical-align: top;\n",
              "    }\n",
              "\n",
              "    .dataframe thead th {\n",
              "        text-align: right;\n",
              "    }\n",
              "</style>\n",
              "<table border=\"1\" class=\"dataframe\">\n",
              "  <thead>\n",
              "    <tr style=\"text-align: right;\">\n",
              "      <th></th>\n",
              "      <th>Row ID</th>\n",
              "      <th>Order ID</th>\n",
              "      <th>Order Date</th>\n",
              "      <th>Ship Date</th>\n",
              "      <th>Ship Mode</th>\n",
              "      <th>Customer ID</th>\n",
              "      <th>Customer Name</th>\n",
              "      <th>Segment</th>\n",
              "      <th>Country</th>\n",
              "      <th>City</th>\n",
              "      <th>State</th>\n",
              "      <th>Postal Code</th>\n",
              "      <th>Region</th>\n",
              "      <th>Product ID</th>\n",
              "      <th>Category</th>\n",
              "      <th>Sub-Category</th>\n",
              "      <th>Product Name</th>\n",
              "      <th>Sales</th>\n",
              "    </tr>\n",
              "  </thead>\n",
              "  <tbody>\n",
              "    <tr>\n",
              "      <th>0</th>\n",
              "      <td>1</td>\n",
              "      <td>CA-2017-152156</td>\n",
              "      <td>08/11/2017</td>\n",
              "      <td>11/11/2017</td>\n",
              "      <td>Second Class</td>\n",
              "      <td>CG-12520</td>\n",
              "      <td>Claire Gute</td>\n",
              "      <td>Consumer</td>\n",
              "      <td>United States</td>\n",
              "      <td>Henderson</td>\n",
              "      <td>Kentucky</td>\n",
              "      <td>42420.0</td>\n",
              "      <td>South</td>\n",
              "      <td>FUR-BO-10001798</td>\n",
              "      <td>Furniture</td>\n",
              "      <td>Bookcases</td>\n",
              "      <td>Bush Somerset Collection Bookcase</td>\n",
              "      <td>261.9600</td>\n",
              "    </tr>\n",
              "    <tr>\n",
              "      <th>1</th>\n",
              "      <td>2</td>\n",
              "      <td>CA-2017-152156</td>\n",
              "      <td>08/11/2017</td>\n",
              "      <td>11/11/2017</td>\n",
              "      <td>Second Class</td>\n",
              "      <td>CG-12520</td>\n",
              "      <td>Claire Gute</td>\n",
              "      <td>Consumer</td>\n",
              "      <td>United States</td>\n",
              "      <td>Henderson</td>\n",
              "      <td>Kentucky</td>\n",
              "      <td>42420.0</td>\n",
              "      <td>South</td>\n",
              "      <td>FUR-CH-10000454</td>\n",
              "      <td>Furniture</td>\n",
              "      <td>Chairs</td>\n",
              "      <td>Hon Deluxe Fabric Upholstered Stacking Chairs,...</td>\n",
              "      <td>731.9400</td>\n",
              "    </tr>\n",
              "    <tr>\n",
              "      <th>2</th>\n",
              "      <td>3</td>\n",
              "      <td>CA-2017-138688</td>\n",
              "      <td>12/06/2017</td>\n",
              "      <td>16/06/2017</td>\n",
              "      <td>Second Class</td>\n",
              "      <td>DV-13045</td>\n",
              "      <td>Darrin Van Huff</td>\n",
              "      <td>Corporate</td>\n",
              "      <td>United States</td>\n",
              "      <td>Los Angeles</td>\n",
              "      <td>California</td>\n",
              "      <td>90036.0</td>\n",
              "      <td>West</td>\n",
              "      <td>OFF-LA-10000240</td>\n",
              "      <td>Office Supplies</td>\n",
              "      <td>Labels</td>\n",
              "      <td>Self-Adhesive Address Labels for Typewriters b...</td>\n",
              "      <td>14.6200</td>\n",
              "    </tr>\n",
              "    <tr>\n",
              "      <th>3</th>\n",
              "      <td>4</td>\n",
              "      <td>US-2016-108966</td>\n",
              "      <td>11/10/2016</td>\n",
              "      <td>18/10/2016</td>\n",
              "      <td>Standard Class</td>\n",
              "      <td>SO-20335</td>\n",
              "      <td>Sean O'Donnell</td>\n",
              "      <td>Consumer</td>\n",
              "      <td>United States</td>\n",
              "      <td>Fort Lauderdale</td>\n",
              "      <td>Florida</td>\n",
              "      <td>33311.0</td>\n",
              "      <td>South</td>\n",
              "      <td>FUR-TA-10000577</td>\n",
              "      <td>Furniture</td>\n",
              "      <td>Tables</td>\n",
              "      <td>Bretford CR4500 Series Slim Rectangular Table</td>\n",
              "      <td>957.5775</td>\n",
              "    </tr>\n",
              "    <tr>\n",
              "      <th>4</th>\n",
              "      <td>5</td>\n",
              "      <td>US-2016-108966</td>\n",
              "      <td>11/10/2016</td>\n",
              "      <td>18/10/2016</td>\n",
              "      <td>Standard Class</td>\n",
              "      <td>SO-20335</td>\n",
              "      <td>Sean O'Donnell</td>\n",
              "      <td>Consumer</td>\n",
              "      <td>United States</td>\n",
              "      <td>Fort Lauderdale</td>\n",
              "      <td>Florida</td>\n",
              "      <td>33311.0</td>\n",
              "      <td>South</td>\n",
              "      <td>OFF-ST-10000760</td>\n",
              "      <td>Office Supplies</td>\n",
              "      <td>Storage</td>\n",
              "      <td>Eldon Fold 'N Roll Cart System</td>\n",
              "      <td>22.3680</td>\n",
              "    </tr>\n",
              "  </tbody>\n",
              "</table>\n",
              "</div>"
            ],
            "text/plain": [
              "   Row ID        Order ID  Order Date   Ship Date       Ship Mode Customer ID  \\\n",
              "0       1  CA-2017-152156  08/11/2017  11/11/2017    Second Class    CG-12520   \n",
              "1       2  CA-2017-152156  08/11/2017  11/11/2017    Second Class    CG-12520   \n",
              "2       3  CA-2017-138688  12/06/2017  16/06/2017    Second Class    DV-13045   \n",
              "3       4  US-2016-108966  11/10/2016  18/10/2016  Standard Class    SO-20335   \n",
              "4       5  US-2016-108966  11/10/2016  18/10/2016  Standard Class    SO-20335   \n",
              "\n",
              "     Customer Name    Segment        Country             City       State  \\\n",
              "0      Claire Gute   Consumer  United States        Henderson    Kentucky   \n",
              "1      Claire Gute   Consumer  United States        Henderson    Kentucky   \n",
              "2  Darrin Van Huff  Corporate  United States      Los Angeles  California   \n",
              "3   Sean O'Donnell   Consumer  United States  Fort Lauderdale     Florida   \n",
              "4   Sean O'Donnell   Consumer  United States  Fort Lauderdale     Florida   \n",
              "\n",
              "   Postal Code Region       Product ID         Category Sub-Category  \\\n",
              "0      42420.0  South  FUR-BO-10001798        Furniture    Bookcases   \n",
              "1      42420.0  South  FUR-CH-10000454        Furniture       Chairs   \n",
              "2      90036.0   West  OFF-LA-10000240  Office Supplies       Labels   \n",
              "3      33311.0  South  FUR-TA-10000577        Furniture       Tables   \n",
              "4      33311.0  South  OFF-ST-10000760  Office Supplies      Storage   \n",
              "\n",
              "                                        Product Name     Sales  \n",
              "0                  Bush Somerset Collection Bookcase  261.9600  \n",
              "1  Hon Deluxe Fabric Upholstered Stacking Chairs,...  731.9400  \n",
              "2  Self-Adhesive Address Labels for Typewriters b...   14.6200  \n",
              "3      Bretford CR4500 Series Slim Rectangular Table  957.5775  \n",
              "4                     Eldon Fold 'N Roll Cart System   22.3680  "
            ]
          },
          "metadata": {},
          "output_type": "display_data"
        },
        {
          "name": "stdout",
          "output_type": "stream",
          "text": [
            "<class 'pandas.core.frame.DataFrame'>\n",
            "RangeIndex: 9800 entries, 0 to 9799\n",
            "Data columns (total 18 columns):\n",
            " #   Column         Non-Null Count  Dtype  \n",
            "---  ------         --------------  -----  \n",
            " 0   Row ID         9800 non-null   int64  \n",
            " 1   Order ID       9800 non-null   object \n",
            " 2   Order Date     9800 non-null   object \n",
            " 3   Ship Date      9800 non-null   object \n",
            " 4   Ship Mode      9800 non-null   object \n",
            " 5   Customer ID    9800 non-null   object \n",
            " 6   Customer Name  9800 non-null   object \n",
            " 7   Segment        9800 non-null   object \n",
            " 8   Country        9800 non-null   object \n",
            " 9   City           9800 non-null   object \n",
            " 10  State          9800 non-null   object \n",
            " 11  Postal Code    9789 non-null   float64\n",
            " 12  Region         9800 non-null   object \n",
            " 13  Product ID     9800 non-null   object \n",
            " 14  Category       9800 non-null   object \n",
            " 15  Sub-Category   9800 non-null   object \n",
            " 16  Product Name   9800 non-null   object \n",
            " 17  Sales          9800 non-null   float64\n",
            "dtypes: float64(2), int64(1), object(15)\n",
            "memory usage: 1.3+ MB\n"
          ]
        },
        {
          "data": {
            "text/plain": [
              "None"
            ]
          },
          "metadata": {},
          "output_type": "display_data"
        }
      ],
      "source": [
        "display(df.head())\n",
        "display(df.info())"
      ]
    },
    {
      "cell_type": "code",
      "execution_count": 132,
      "metadata": {
        "id": "1-m-_KGpnHmF"
      },
      "outputs": [],
      "source": [
        "# Filling null values\n",
        "df.fillna({\"Postal Code\" : 0},  inplace = True)\n",
        "df [\"Postal Code\"] = df[\"Postal Code\"].astype(int)"
      ]
    },
    {
      "cell_type": "code",
      "execution_count": 133,
      "metadata": {
        "colab": {
          "base_uri": "https://localhost:8080/"
        },
        "id": "jzS5LgzanbSJ",
        "outputId": "d62da83c-2f89-493b-8c1c-c0ef0217c63f"
      },
      "outputs": [
        {
          "data": {
            "text/plain": [
              "np.int64(0)"
            ]
          },
          "execution_count": 133,
          "metadata": {},
          "output_type": "execute_result"
        }
      ],
      "source": [
        "df.duplicated().sum()"
      ]
    },
    {
      "cell_type": "code",
      "execution_count": 134,
      "metadata": {
        "id": "bBFtFI_saNA9"
      },
      "outputs": [
        {
          "name": "stdout",
          "output_type": "stream",
          "text": [
            "['Consumer' 'Corporate' 'Home Office']\n"
          ]
        }
      ],
      "source": [
        "# Types of customers\n",
        "types_of_customers = df[\"Segment\"].unique()\n",
        "\n",
        "print (types_of_customers)"
      ]
    },
    {
      "cell_type": "code",
      "execution_count": 135,
      "metadata": {
        "id": "AjfDJUyLb36z"
      },
      "outputs": [
        {
          "name": "stdout",
          "output_type": "stream",
          "text": [
            "  Type Of Customer  count\n",
            "0         Consumer   5101\n",
            "1        Corporate   2953\n",
            "2      Home Office   1746\n"
          ]
        }
      ],
      "source": [
        "number_of_customers = df[\"Segment\"].value_counts().reset_index()\n",
        "number_of_customers = number_of_customers.rename(columns={\"Segment\" : \"Type Of Customer\"})\n",
        "\n",
        "print (number_of_customers)"
      ]
    },
    {
      "cell_type": "code",
      "execution_count": 136,
      "metadata": {
        "colab": {
          "base_uri": "https://localhost:8080/",
          "height": 562
        },
        "id": "mUPu5M91cmbT",
        "outputId": "8448f805-4a77-4586-bfe8-60a3975c26eb"
      },
      "outputs": [
        {
          "data": {
            "text/plain": [
              "([<matplotlib.patches.Wedge at 0x1bf475e3ad0>,\n",
              "  <matplotlib.patches.Wedge at 0x1bf4760e410>,\n",
              "  <matplotlib.patches.Wedge at 0x1bf4760fcd0>],\n",
              " [Text(-0.07082912490696024, 1.0977172837597642, 'Consumer'),\n",
              "  Text(-0.5228074564626142, -0.9678183525161589, 'Corporate'),\n",
              "  Text(0.9321462195039758, -0.5840406025820858, 'Home Office')],\n",
              " [Text(-0.03863406813106921, 0.5987548820507803, '52.1%'),\n",
              "  Text(-0.28516770352506227, -0.5279009195542684, '30.1%'),\n",
              "  Text(0.508443392456714, -0.3185676014084104, '17.8%')])"
            ]
          },
          "execution_count": 136,
          "metadata": {},
          "output_type": "execute_result"
        },
        {
          "data": {
            "image/png": "[encoded data removed]",
            "text/plain": [
              "<Figure size 640x480 with 1 Axes>"
            ]
          },
          "metadata": {},
          "output_type": "display_data"
        }
      ],
      "source": [
        "plt.pie(number_of_customers[\"count\"], labels=number_of_customers[\"Type Of Customer\"], autopct=\"%1.1f%%\")"
      ]
    },
    {
      "cell_type": "code",
      "execution_count": 137,
      "metadata": {
        "colab": {
          "base_uri": "https://localhost:8080/",
          "height": 532
        },
        "id": "riVBN39wc9EB",
        "outputId": "1a1dc33c-6eda-4b61-f0f1-56dd4a48a5ff"
      },
      "outputs": [
        {
          "name": "stdout",
          "output_type": "stream",
          "text": [
            "  Type Of Customer   Total Sales\n",
            "0         Consumer  1.148061e+06\n",
            "1        Corporate  6.884941e+05\n",
            "2      Home Office  4.249822e+05\n"
          ]
        },
        {
          "data": {
            "text/plain": [
              "<BarContainer object of 3 artists>"
            ]
          },
          "execution_count": 137,
          "metadata": {},
          "output_type": "execute_result"
        },
        {
          "data": {
            "image/png": "[encoded data removed]",
            "text/plain": [
              "<Figure size 640x480 with 1 Axes>"
            ]
          },
          "metadata": {},
          "output_type": "display_data"
        }
      ],
      "source": [
        "# Sales per segment\n",
        "sales_per_segment = df.groupby(\"Segment\")[\"Sales\"].sum().reset_index()\n",
        "sales_per_segment = sales_per_segment.rename(columns={\"Segment\":\"Type Of Customer\", \"Sales\":\"Total Sales\"})\n",
        "\n",
        "print(sales_per_segment)\n",
        "\n",
        "plt.bar(sales_per_segment[\"Type Of Customer\"], sales_per_segment[\"Total Sales\"])"
      ]
    },
    {
      "cell_type": "code",
      "execution_count": 138,
      "metadata": {
        "colab": {
          "base_uri": "https://localhost:8080/",
          "height": 562
        },
        "id": "fbrtNQcKe572",
        "outputId": "27085e15-9fc3-48dc-d891-4428ec85ca0f"
      },
      "outputs": [
        {
          "data": {
            "text/plain": [
              "([<matplotlib.patches.Wedge at 0x1bf47375b10>,\n",
              "  <matplotlib.patches.Wedge at 0x1bf476bac50>,\n",
              "  <matplotlib.patches.Wedge at 0x1bf476c8910>],\n",
              " [Text(-0.026420901678353936, 1.099682652384088, 'Consumer'),\n",
              "  Text(-0.5902004249314666, -0.9282582929393717, 'Corporate'),\n",
              "  Text(0.9138143750681164, -0.6123261287246105, 'Home Office')],\n",
              " [Text(-0.01441140091546578, 0.5998269013004115, '50.8%'),\n",
              "  Text(-0.32192750450807267, -0.5063227052396572, '30.4%'),\n",
              "  Text(0.49844420458260885, -0.3339960702134238, '18.8%')])"
            ]
          },
          "execution_count": 138,
          "metadata": {},
          "output_type": "execute_result"
        },
        {
          "data": {
            "image/png": "[encoded data removed]",
            "text/plain": [
              "<Figure size 640x480 with 1 Axes>"
            ]
          },
          "metadata": {},
          "output_type": "display_data"
        }
      ],
      "source": [
        "plt.pie(sales_per_segment[\"Total Sales\"], labels=sales_per_segment[\"Type Of Customer\"], autopct=\"%1.1f%%\")"
      ]
    },
    {
      "cell_type": "code",
      "execution_count": 139,
      "metadata": {
        "id": "VnGoU5WthwX0"
      },
      "outputs": [
        {
          "name": "stdout",
          "output_type": "stream",
          "text": [
            "   Customer ID        Customer Name      Segment  Total Orders\n",
            "0     WB-21850        William Brown     Consumer            35\n",
            "1     PP-18955           Paul Prost  Home Office            34\n",
            "2     MA-17560         Matt Abelman  Home Office            34\n",
            "3     JL-15835             John Lee     Consumer            33\n",
            "4     SV-20365          Seth Vernon     Consumer            32\n",
            "5     JD-15895     Jonathan Doherty    Corporate            32\n",
            "6     CK-12205  Chloris Kastensmidt     Consumer            32\n",
            "7     AP-10915       Arthur Prichep     Consumer            31\n",
            "8     ZC-21910     Zuschuss Carroll     Consumer            31\n",
            "9     EP-13915           Emily Phan     Consumer            31\n",
            "10    LC-16870        Lena Cacioppo     Consumer            30\n",
            "11    BM-11650           Brian Moss    Corporate            29\n"
          ]
        }
      ],
      "source": [
        "# Order frequency per customer\n",
        "customers_order_frequency = df.groupby([\"Customer ID\", \"Customer Name\", \"Segment\"])[\"Order ID\"].count().reset_index()\n",
        "customers_order_frequency.rename(columns={\"Order ID\":\"Total Orders\"}, inplace = True)\n",
        "\n",
        "# Loyal customers by order frequency\n",
        "repeat_customers = customers_order_frequency[customers_order_frequency[\"Total Orders\"] >= 1]\n",
        "repeat_customers_sorted = repeat_customers.sort_values(by=\"Total Orders\", ascending = False)\n",
        "\n",
        "print(repeat_customers_sorted.head(12).reset_index(drop=True))"
      ]
    },
    {
      "cell_type": "code",
      "execution_count": 140,
      "metadata": {
        "id": "-4UEIEiijA6V"
      },
      "outputs": [
        {
          "name": "stdout",
          "output_type": "stream",
          "text": [
            "   Customer ID       Customer Name      Segment      Sales\n",
            "0     SM-20320         Sean Miller  Home Office  25043.050\n",
            "1     TC-20980        Tamara Chand    Corporate  19052.218\n",
            "2     RB-19360        Raymond Buch     Consumer  15117.339\n",
            "3     TA-21385        Tom Ashbrook  Home Office  14595.620\n",
            "4     AB-10105       Adrian Barton     Consumer  14473.571\n",
            "5     KL-16645        Ken Lonsdale     Consumer  14175.229\n",
            "6     SC-20095        Sanjit Chand     Consumer  14142.334\n",
            "7     HL-15040        Hunter Lopez     Consumer  12873.298\n",
            "8     SE-20110        Sanjit Engle     Consumer  12209.438\n",
            "9     CC-12370  Christopher Conant     Consumer  12129.072\n",
            "10    TS-21370        Todd Sumrall    Corporate  11891.751\n",
            "11    GT-14710           Greg Tran     Consumer  11820.120\n"
          ]
        }
      ],
      "source": [
        "# Actual sales per customer\n",
        "customer_sales = df.groupby([\"Customer ID\", \"Customer Name\", \"Segment\"])[\"Sales\"].sum().reset_index()\n",
        "top_spenders = customer_sales.sort_values(by=\"Sales\", ascending=False)\n",
        "\n",
        "print(top_spenders.head(12).reset_index(drop=True))"
      ]
    },
    {
      "cell_type": "code",
      "execution_count": 141,
      "metadata": {
        "colab": {
          "base_uri": "https://localhost:8080/"
        },
        "id": "bRaQ5Wr5mYkK",
        "outputId": "41b3cb8d-4366-4acd-d734-aafc94f085c9"
      },
      "outputs": [
        {
          "name": "stdout",
          "output_type": "stream",
          "text": [
            "  Mode Of Shipment  Use Frequency\n",
            "0   Standard Class           5859\n",
            "1     Second Class           1902\n",
            "2      First Class           1501\n",
            "3         Same Day            538\n"
          ]
        }
      ],
      "source": [
        "# Shipping mode frequency\n",
        "shipping_mode = df[\"Ship Mode\"].value_counts().reset_index()\n",
        "shipping_mode = shipping_mode.rename(columns={\"index\":\"Use Frequency\", \"Ship Mode\":\"Mode Of Shipment\", \"count\":\"Use Frequency\"})\n",
        "\n",
        "print(shipping_mode)"
      ]
    },
    {
      "cell_type": "code",
      "execution_count": 142,
      "metadata": {
        "colab": {
          "base_uri": "https://localhost:8080/",
          "height": 614
        },
        "id": "8OyiQB2jm667",
        "outputId": "648cb4d3-77ed-49b8-8ade-c831856839e2"
      },
      "outputs": [
        {
          "data": {
            "text/plain": [
              "([<matplotlib.patches.Wedge at 0x1bf479b9410>,\n",
              "  <matplotlib.patches.Wedge at 0x1bf479bab10>,\n",
              "  <matplotlib.patches.Wedge at 0x1bf479c8750>,\n",
              "  <matplotlib.patches.Wedge at 0x1bf479bbdd0>],\n",
              " [Text(-0.33286822443706726, 1.0484267953272248, 'Standard Class'),\n",
              "  Text(-0.37327504859675137, -1.034729789894489, 'Second Class'),\n",
              "  Text(0.7455147818297655, -0.8088310763523601, 'First Class'),\n",
              "  Text(1.083680824088883, -0.18877465799741078, 'Same Day')],\n",
              " [Text(-0.18156448605658213, 0.5718691610875771, '59.8%'),\n",
              "  Text(-0.20360457196186435, -0.5643980672151757, '19.4%'),\n",
              "  Text(0.4066444264525993, -0.44118058710128727, '15.3%'),\n",
              "  Text(0.5910986313212089, -0.10296799527131496, '5.5%')])"
            ]
          },
          "execution_count": 142,
          "metadata": {},
          "output_type": "execute_result"
        },
        {
          "data": {
            "image/png": "[encoded data removed]",
            "text/plain": [
              "<Figure size 640x480 with 1 Axes>"
            ]
          },
          "metadata": {},
          "output_type": "display_data"
        }
      ],
      "source": [
        "plt.pie(shipping_mode[\"Use Frequency\"], labels=shipping_mode[\"Mode Of Shipment\"], autopct=\"%1.1f%%\")"
      ]
    },
    {
      "cell_type": "code",
      "execution_count": 143,
      "metadata": {
        "colab": {
          "base_uri": "https://localhost:8080/"
        },
        "id": "7U0ml7Y8nL6v",
        "outputId": "548195d3-41f3-489c-a36e-ecb47b520c01"
      },
      "outputs": [
        {
          "name": "stdout",
          "output_type": "stream",
          "text": [
            "   Number Of Customers  count\n",
            "0           California   1946\n",
            "1             New York   1097\n",
            "2                Texas    973\n",
            "3         Pennsylvania    582\n",
            "4           Washington    504\n",
            "5             Illinois    483\n",
            "6                 Ohio    454\n",
            "7              Florida    373\n",
            "8             Michigan    253\n",
            "9       North Carolina    247\n",
            "10            Virginia    224\n",
            "11             Arizona    223\n",
            "12           Tennessee    183\n",
            "13            Colorado    179\n",
            "14             Georgia    177\n",
            "15            Kentucky    137\n",
            "16             Indiana    135\n",
            "17       Massachusetts    135\n",
            "18              Oregon    122\n",
            "19          New Jersey    122\n"
          ]
        }
      ],
      "source": [
        "# Number of customers per state\n",
        "state = df[\"State\"].value_counts().reset_index()\n",
        "state = state.rename(columns={\"index\":\"State\", \"State\":\"Number Of Customers\"})\n",
        "\n",
        "print(state.head(20))"
      ]
    },
    {
      "cell_type": "code",
      "execution_count": 144,
      "metadata": {
        "colab": {
          "base_uri": "https://localhost:8080/"
        },
        "id": "AUDYgL28rYLY",
        "outputId": "3e0f9d0c-227d-44fe-a55b-279607324538"
      },
      "outputs": [
        {
          "name": "stdout",
          "output_type": "stream",
          "text": [
            "             City  count\n",
            "0   New York City    891\n",
            "1     Los Angeles    728\n",
            "2    Philadelphia    532\n",
            "3   San Francisco    500\n",
            "4         Seattle    426\n",
            "5         Houston    374\n",
            "6         Chicago    308\n",
            "7        Columbus    221\n",
            "8       San Diego    170\n",
            "9     Springfield    161\n",
            "10         Dallas    156\n",
            "11   Jacksonville    125\n",
            "12        Detroit    115\n",
            "13         Newark     92\n",
            "14        Jackson     82\n",
            "15       Columbia     81\n",
            "16       Richmond     81\n",
            "17         Aurora     68\n",
            "18        Phoenix     63\n",
            "19      Arlington     60\n",
            "20    San Antonio     59\n",
            "21          Miami     56\n",
            "22     Louisville     54\n",
            "23      Rochester     53\n",
            "24     Long Beach     52\n"
          ]
        }
      ],
      "source": [
        "# Number of customers per city\n",
        "city = df[\"City\"].value_counts().reset_index()\n",
        "\n",
        "print(city.head(25))"
      ]
    },
    {
      "cell_type": "code",
      "execution_count": 145,
      "metadata": {
        "id": "CJHwvTmWr1AK"
      },
      "outputs": [
        {
          "name": "stdout",
          "output_type": "stream",
          "text": [
            "          State        Sales\n",
            "0    California  446306.4635\n",
            "1      New York  306361.1470\n",
            "2         Texas  168572.5322\n",
            "3    Washington  135206.8500\n",
            "4  Pennsylvania  116276.6500\n",
            "5       Florida   88436.5320\n",
            "6      Illinois   79236.5170\n",
            "7      Michigan   76136.0740\n",
            "8          Ohio   75130.3500\n",
            "9      Virginia   70636.7200\n"
          ]
        }
      ],
      "source": [
        "# Actual sales per state\n",
        "state_sales = df.groupby([\"State\"])[\"Sales\"].sum().reset_index()\n",
        "top_sales = state_sales.sort_values(by=\"Sales\", ascending=False)\n",
        "\n",
        "print(top_sales.head(10).reset_index(drop=True))"
      ]
    },
    {
      "cell_type": "code",
      "execution_count": 146,
      "metadata": {
        "colab": {
          "base_uri": "https://localhost:8080/"
        },
        "id": "dlj8eecbsaWL",
        "outputId": "0fdfad70-9dfc-475c-d4d4-2d62b92e85fc"
      },
      "outputs": [
        {
          "name": "stdout",
          "output_type": "stream",
          "text": [
            "            City        Sales\n",
            "0  New York City  252462.5470\n",
            "1    Los Angeles  173420.1810\n",
            "2        Seattle  116106.3220\n",
            "3  San Francisco  109041.1200\n",
            "4   Philadelphia  108841.7490\n",
            "5        Houston   63956.1428\n",
            "6        Chicago   47820.1330\n",
            "7      San Diego   47521.0290\n",
            "8   Jacksonville   44713.1830\n",
            "9        Detroit   42446.9440\n"
          ]
        }
      ],
      "source": [
        "# Actual sales per city\n",
        "city_sales = df.groupby([\"City\"])[\"Sales\"].sum().reset_index()\n",
        "top_city_sales = city_sales.sort_values (by=\"Sales\", ascending=False)\n",
        "\n",
        "print(top_city_sales.head(10).reset_index(drop=True))"
      ]
    },
    {
      "cell_type": "code",
      "execution_count": 147,
      "metadata": {
        "colab": {
          "base_uri": "https://localhost:8080/"
        },
        "id": "fsGFPGcptLrE",
        "outputId": "da3e03e4-5aa0-445a-cdd2-19aad1293685"
      },
      "outputs": [
        {
          "name": "stdout",
          "output_type": "stream",
          "text": [
            "      State           City      Sales\n",
            "0   Alabama         Auburn   1766.830\n",
            "1   Alabama        Decatur   3374.820\n",
            "2   Alabama       Florence   1997.350\n",
            "3   Alabama         Hoover    525.850\n",
            "4   Alabama     Huntsville   2484.370\n",
            "5   Alabama         Mobile   5462.990\n",
            "6   Alabama     Montgomery   3722.730\n",
            "7   Alabama     Tuscaloosa    175.700\n",
            "8   Arizona       Avondale    946.808\n",
            "9   Arizona  Bullhead City     22.288\n",
            "10  Arizona       Chandler   1067.403\n",
            "11  Arizona        Gilbert   4172.382\n",
            "12  Arizona       Glendale   2917.865\n",
            "13  Arizona           Mesa   4037.740\n",
            "14  Arizona         Peoria   1341.352\n",
            "15  Arizona        Phoenix  11000.257\n",
            "16  Arizona     Scottsdale   1466.307\n",
            "17  Arizona   Sierra Vista     76.072\n",
            "18  Arizona          Tempe   1070.302\n",
            "19  Arizona         Tucson   6313.016\n"
          ]
        }
      ],
      "source": [
        "# Sales per state and city\n",
        "state_city_sales = df.groupby([\"State\", \"City\"])[\"Sales\"].sum().reset_index()\n",
        "\n",
        "print(state_city_sales.head(20))"
      ]
    },
    {
      "cell_type": "code",
      "execution_count": 148,
      "metadata": {
        "colab": {
          "base_uri": "https://localhost:8080/",
          "height": 1000
        },
        "id": "jVcRl0tAxG4X",
        "outputId": "ca4c14b1-bcf6-4dbd-a107-08a6a2d3ebd1"
      },
      "outputs": [
        {
          "data": {
            "text/html": [
              "<div>\n",
              "<style scoped>\n",
              "    .dataframe tbody tr th:only-of-type {\n",
              "        vertical-align: middle;\n",
              "    }\n",
              "\n",
              "    .dataframe tbody tr th {\n",
              "        vertical-align: top;\n",
              "    }\n",
              "\n",
              "    .dataframe thead th {\n",
              "        text-align: right;\n",
              "    }\n",
              "</style>\n",
              "<table border=\"1\" class=\"dataframe\">\n",
              "  <thead>\n",
              "    <tr style=\"text-align: right;\">\n",
              "      <th></th>\n",
              "      <th>Row ID</th>\n",
              "      <th>Order ID</th>\n",
              "      <th>Order Date</th>\n",
              "      <th>Ship Date</th>\n",
              "      <th>Ship Mode</th>\n",
              "      <th>Customer ID</th>\n",
              "      <th>Customer Name</th>\n",
              "      <th>Segment</th>\n",
              "      <th>Country</th>\n",
              "      <th>City</th>\n",
              "      <th>State</th>\n",
              "      <th>Postal Code</th>\n",
              "      <th>Region</th>\n",
              "      <th>Product ID</th>\n",
              "      <th>Category</th>\n",
              "      <th>Sub-Category</th>\n",
              "      <th>Product Name</th>\n",
              "      <th>Sales</th>\n",
              "    </tr>\n",
              "  </thead>\n",
              "  <tbody>\n",
              "    <tr>\n",
              "      <th>0</th>\n",
              "      <td>1</td>\n",
              "      <td>CA-2017-152156</td>\n",
              "      <td>08/11/2017</td>\n",
              "      <td>11/11/2017</td>\n",
              "      <td>Second Class</td>\n",
              "      <td>CG-12520</td>\n",
              "      <td>Claire Gute</td>\n",
              "      <td>Consumer</td>\n",
              "      <td>United States</td>\n",
              "      <td>Henderson</td>\n",
              "      <td>Kentucky</td>\n",
              "      <td>42420</td>\n",
              "      <td>South</td>\n",
              "      <td>FUR-BO-10001798</td>\n",
              "      <td>Furniture</td>\n",
              "      <td>Bookcases</td>\n",
              "      <td>Bush Somerset Collection Bookcase</td>\n",
              "      <td>261.9600</td>\n",
              "    </tr>\n",
              "    <tr>\n",
              "      <th>1</th>\n",
              "      <td>2</td>\n",
              "      <td>CA-2017-152156</td>\n",
              "      <td>08/11/2017</td>\n",
              "      <td>11/11/2017</td>\n",
              "      <td>Second Class</td>\n",
              "      <td>CG-12520</td>\n",
              "      <td>Claire Gute</td>\n",
              "      <td>Consumer</td>\n",
              "      <td>United States</td>\n",
              "      <td>Henderson</td>\n",
              "      <td>Kentucky</td>\n",
              "      <td>42420</td>\n",
              "      <td>South</td>\n",
              "      <td>FUR-CH-10000454</td>\n",
              "      <td>Furniture</td>\n",
              "      <td>Chairs</td>\n",
              "      <td>Hon Deluxe Fabric Upholstered Stacking Chairs,...</td>\n",
              "      <td>731.9400</td>\n",
              "    </tr>\n",
              "    <tr>\n",
              "      <th>2</th>\n",
              "      <td>3</td>\n",
              "      <td>CA-2017-138688</td>\n",
              "      <td>12/06/2017</td>\n",
              "      <td>16/06/2017</td>\n",
              "      <td>Second Class</td>\n",
              "      <td>DV-13045</td>\n",
              "      <td>Darrin Van Huff</td>\n",
              "      <td>Corporate</td>\n",
              "      <td>United States</td>\n",
              "      <td>Los Angeles</td>\n",
              "      <td>California</td>\n",
              "      <td>90036</td>\n",
              "      <td>West</td>\n",
              "      <td>OFF-LA-10000240</td>\n",
              "      <td>Office Supplies</td>\n",
              "      <td>Labels</td>\n",
              "      <td>Self-Adhesive Address Labels for Typewriters b...</td>\n",
              "      <td>14.6200</td>\n",
              "    </tr>\n",
              "    <tr>\n",
              "      <th>3</th>\n",
              "      <td>4</td>\n",
              "      <td>US-2016-108966</td>\n",
              "      <td>11/10/2016</td>\n",
              "      <td>18/10/2016</td>\n",
              "      <td>Standard Class</td>\n",
              "      <td>SO-20335</td>\n",
              "      <td>Sean O'Donnell</td>\n",
              "      <td>Consumer</td>\n",
              "      <td>United States</td>\n",
              "      <td>Fort Lauderdale</td>\n",
              "      <td>Florida</td>\n",
              "      <td>33311</td>\n",
              "      <td>South</td>\n",
              "      <td>FUR-TA-10000577</td>\n",
              "      <td>Furniture</td>\n",
              "      <td>Tables</td>\n",
              "      <td>Bretford CR4500 Series Slim Rectangular Table</td>\n",
              "      <td>957.5775</td>\n",
              "    </tr>\n",
              "    <tr>\n",
              "      <th>4</th>\n",
              "      <td>5</td>\n",
              "      <td>US-2016-108966</td>\n",
              "      <td>11/10/2016</td>\n",
              "      <td>18/10/2016</td>\n",
              "      <td>Standard Class</td>\n",
              "      <td>SO-20335</td>\n",
              "      <td>Sean O'Donnell</td>\n",
              "      <td>Consumer</td>\n",
              "      <td>United States</td>\n",
              "      <td>Fort Lauderdale</td>\n",
              "      <td>Florida</td>\n",
              "      <td>33311</td>\n",
              "      <td>South</td>\n",
              "      <td>OFF-ST-10000760</td>\n",
              "      <td>Office Supplies</td>\n",
              "      <td>Storage</td>\n",
              "      <td>Eldon Fold 'N Roll Cart System</td>\n",
              "      <td>22.3680</td>\n",
              "    </tr>\n",
              "    <tr>\n",
              "      <th>...</th>\n",
              "      <td>...</td>\n",
              "      <td>...</td>\n",
              "      <td>...</td>\n",
              "      <td>...</td>\n",
              "      <td>...</td>\n",
              "      <td>...</td>\n",
              "      <td>...</td>\n",
              "      <td>...</td>\n",
              "      <td>...</td>\n",
              "      <td>...</td>\n",
              "      <td>...</td>\n",
              "      <td>...</td>\n",
              "      <td>...</td>\n",
              "      <td>...</td>\n",
              "      <td>...</td>\n",
              "      <td>...</td>\n",
              "      <td>...</td>\n",
              "      <td>...</td>\n",
              "    </tr>\n",
              "    <tr>\n",
              "      <th>95</th>\n",
              "      <td>96</td>\n",
              "      <td>US-2018-109484</td>\n",
              "      <td>06/11/2018</td>\n",
              "      <td>12/11/2018</td>\n",
              "      <td>Standard Class</td>\n",
              "      <td>RB-19705</td>\n",
              "      <td>Roger Barcio</td>\n",
              "      <td>Home Office</td>\n",
              "      <td>United States</td>\n",
              "      <td>Portland</td>\n",
              "      <td>Oregon</td>\n",
              "      <td>97206</td>\n",
              "      <td>West</td>\n",
              "      <td>OFF-BI-10004738</td>\n",
              "      <td>Office Supplies</td>\n",
              "      <td>Binders</td>\n",
              "      <td>Flexible Leather- Look Classic Collection Ring...</td>\n",
              "      <td>5.6820</td>\n",
              "    </tr>\n",
              "    <tr>\n",
              "      <th>96</th>\n",
              "      <td>97</td>\n",
              "      <td>CA-2018-161018</td>\n",
              "      <td>09/11/2018</td>\n",
              "      <td>11/11/2018</td>\n",
              "      <td>Second Class</td>\n",
              "      <td>PN-18775</td>\n",
              "      <td>Parhena Norris</td>\n",
              "      <td>Home Office</td>\n",
              "      <td>United States</td>\n",
              "      <td>New York City</td>\n",
              "      <td>New York</td>\n",
              "      <td>10009</td>\n",
              "      <td>East</td>\n",
              "      <td>FUR-FU-10000629</td>\n",
              "      <td>Furniture</td>\n",
              "      <td>Furnishings</td>\n",
              "      <td>9-3/4 Diameter Round Wall Clock</td>\n",
              "      <td>96.5300</td>\n",
              "    </tr>\n",
              "    <tr>\n",
              "      <th>97</th>\n",
              "      <td>98</td>\n",
              "      <td>CA-2018-157833</td>\n",
              "      <td>17/06/2018</td>\n",
              "      <td>20/06/2018</td>\n",
              "      <td>First Class</td>\n",
              "      <td>KD-16345</td>\n",
              "      <td>Katherine Ducich</td>\n",
              "      <td>Consumer</td>\n",
              "      <td>United States</td>\n",
              "      <td>San Francisco</td>\n",
              "      <td>California</td>\n",
              "      <td>94122</td>\n",
              "      <td>West</td>\n",
              "      <td>OFF-BI-10001721</td>\n",
              "      <td>Office Supplies</td>\n",
              "      <td>Binders</td>\n",
              "      <td>Trimflex Flexible Post Binders</td>\n",
              "      <td>51.3120</td>\n",
              "    </tr>\n",
              "    <tr>\n",
              "      <th>98</th>\n",
              "      <td>99</td>\n",
              "      <td>CA-2017-149223</td>\n",
              "      <td>06/09/2017</td>\n",
              "      <td>11/09/2017</td>\n",
              "      <td>Standard Class</td>\n",
              "      <td>ER-13855</td>\n",
              "      <td>Elpida Rittenbach</td>\n",
              "      <td>Corporate</td>\n",
              "      <td>United States</td>\n",
              "      <td>Saint Paul</td>\n",
              "      <td>Minnesota</td>\n",
              "      <td>55106</td>\n",
              "      <td>Central</td>\n",
              "      <td>OFF-AP-10000358</td>\n",
              "      <td>Office Supplies</td>\n",
              "      <td>Appliances</td>\n",
              "      <td>Fellowes Basic Home/Office Series Surge Protec...</td>\n",
              "      <td>77.8800</td>\n",
              "    </tr>\n",
              "    <tr>\n",
              "      <th>99</th>\n",
              "      <td>100</td>\n",
              "      <td>CA-2017-158568</td>\n",
              "      <td>29/08/2017</td>\n",
              "      <td>02/09/2017</td>\n",
              "      <td>Standard Class</td>\n",
              "      <td>RB-19465</td>\n",
              "      <td>Rick Bensley</td>\n",
              "      <td>Home Office</td>\n",
              "      <td>United States</td>\n",
              "      <td>Chicago</td>\n",
              "      <td>Illinois</td>\n",
              "      <td>60610</td>\n",
              "      <td>Central</td>\n",
              "      <td>OFF-PA-10003256</td>\n",
              "      <td>Office Supplies</td>\n",
              "      <td>Paper</td>\n",
              "      <td>Avery Personal Creations Heavyweight Cards</td>\n",
              "      <td>64.6240</td>\n",
              "    </tr>\n",
              "  </tbody>\n",
              "</table>\n",
              "<p>100 rows × 18 columns</p>\n",
              "</div>"
            ],
            "text/plain": [
              "    Row ID        Order ID  Order Date   Ship Date       Ship Mode  \\\n",
              "0        1  CA-2017-152156  08/11/2017  11/11/2017    Second Class   \n",
              "1        2  CA-2017-152156  08/11/2017  11/11/2017    Second Class   \n",
              "2        3  CA-2017-138688  12/06/2017  16/06/2017    Second Class   \n",
              "3        4  US-2016-108966  11/10/2016  18/10/2016  Standard Class   \n",
              "4        5  US-2016-108966  11/10/2016  18/10/2016  Standard Class   \n",
              "..     ...             ...         ...         ...             ...   \n",
              "95      96  US-2018-109484  06/11/2018  12/11/2018  Standard Class   \n",
              "96      97  CA-2018-161018  09/11/2018  11/11/2018    Second Class   \n",
              "97      98  CA-2018-157833  17/06/2018  20/06/2018     First Class   \n",
              "98      99  CA-2017-149223  06/09/2017  11/09/2017  Standard Class   \n",
              "99     100  CA-2017-158568  29/08/2017  02/09/2017  Standard Class   \n",
              "\n",
              "   Customer ID      Customer Name      Segment        Country  \\\n",
              "0     CG-12520        Claire Gute     Consumer  United States   \n",
              "1     CG-12520        Claire Gute     Consumer  United States   \n",
              "2     DV-13045    Darrin Van Huff    Corporate  United States   \n",
              "3     SO-20335     Sean O'Donnell     Consumer  United States   \n",
              "4     SO-20335     Sean O'Donnell     Consumer  United States   \n",
              "..         ...                ...          ...            ...   \n",
              "95    RB-19705       Roger Barcio  Home Office  United States   \n",
              "96    PN-18775     Parhena Norris  Home Office  United States   \n",
              "97    KD-16345   Katherine Ducich     Consumer  United States   \n",
              "98    ER-13855  Elpida Rittenbach    Corporate  United States   \n",
              "99    RB-19465       Rick Bensley  Home Office  United States   \n",
              "\n",
              "               City       State  Postal Code   Region       Product ID  \\\n",
              "0         Henderson    Kentucky        42420    South  FUR-BO-10001798   \n",
              "1         Henderson    Kentucky        42420    South  FUR-CH-10000454   \n",
              "2       Los Angeles  California        90036     West  OFF-LA-10000240   \n",
              "3   Fort Lauderdale     Florida        33311    South  FUR-TA-10000577   \n",
              "4   Fort Lauderdale     Florida        33311    South  OFF-ST-10000760   \n",
              "..              ...         ...          ...      ...              ...   \n",
              "95         Portland      Oregon        97206     West  OFF-BI-10004738   \n",
              "96    New York City    New York        10009     East  FUR-FU-10000629   \n",
              "97    San Francisco  California        94122     West  OFF-BI-10001721   \n",
              "98       Saint Paul   Minnesota        55106  Central  OFF-AP-10000358   \n",
              "99          Chicago    Illinois        60610  Central  OFF-PA-10003256   \n",
              "\n",
              "           Category Sub-Category  \\\n",
              "0         Furniture    Bookcases   \n",
              "1         Furniture       Chairs   \n",
              "2   Office Supplies       Labels   \n",
              "3         Furniture       Tables   \n",
              "4   Office Supplies      Storage   \n",
              "..              ...          ...   \n",
              "95  Office Supplies      Binders   \n",
              "96        Furniture  Furnishings   \n",
              "97  Office Supplies      Binders   \n",
              "98  Office Supplies   Appliances   \n",
              "99  Office Supplies        Paper   \n",
              "\n",
              "                                         Product Name     Sales  \n",
              "0                   Bush Somerset Collection Bookcase  261.9600  \n",
              "1   Hon Deluxe Fabric Upholstered Stacking Chairs,...  731.9400  \n",
              "2   Self-Adhesive Address Labels for Typewriters b...   14.6200  \n",
              "3       Bretford CR4500 Series Slim Rectangular Table  957.5775  \n",
              "4                      Eldon Fold 'N Roll Cart System   22.3680  \n",
              "..                                                ...       ...  \n",
              "95  Flexible Leather- Look Classic Collection Ring...    5.6820  \n",
              "96                    9-3/4 Diameter Round Wall Clock   96.5300  \n",
              "97                     Trimflex Flexible Post Binders   51.3120  \n",
              "98  Fellowes Basic Home/Office Series Surge Protec...   77.8800  \n",
              "99         Avery Personal Creations Heavyweight Cards   64.6240  \n",
              "\n",
              "[100 rows x 18 columns]"
            ]
          },
          "execution_count": 148,
          "metadata": {},
          "output_type": "execute_result"
        }
      ],
      "source": [
        "df.head(100)"
      ]
    },
    {
      "cell_type": "code",
      "execution_count": 149,
      "metadata": {
        "colab": {
          "base_uri": "https://localhost:8080/"
        },
        "id": "XMJHwS_pxYis",
        "outputId": "dfc1a5c5-09d4-40d9-82c5-1f96ba6cd44a"
      },
      "outputs": [
        {
          "name": "stdout",
          "output_type": "stream",
          "text": [
            "          Category  Sub-Category\n",
            "1  Office Supplies             9\n",
            "0        Furniture             4\n",
            "2       Technology             4\n"
          ]
        }
      ],
      "source": [
        "# Products category and subcategory\n",
        "subcategory_count = df.groupby(\"Category\")[\"Sub-Category\"].nunique().reset_index()\n",
        "subcategory_count = subcategory_count.sort_values(by=\"Sub-Category\", ascending = False)\n",
        "print(subcategory_count)"
      ]
    },
    {
      "cell_type": "code",
      "execution_count": 150,
      "metadata": {
        "id": "HFvV7o-Rx06m"
      },
      "outputs": [
        {
          "name": "stdout",
          "output_type": "stream",
          "text": [
            "           Category Sub-Category        Sales\n",
            "0        Technology       Phones  327782.4480\n",
            "1         Furniture       Chairs  322822.7310\n",
            "2   Office Supplies      Storage  219343.3920\n",
            "3         Furniture       Tables  202810.6280\n",
            "4   Office Supplies      Binders  200028.7850\n",
            "5        Technology     Machines  189238.6310\n",
            "6        Technology  Accessories  164186.7000\n",
            "7        Technology      Copiers  146248.0940\n",
            "8         Furniture    Bookcases  113813.1987\n",
            "9   Office Supplies   Appliances  104618.4030\n",
            "10        Furniture  Furnishings   89212.0180\n",
            "11  Office Supplies        Paper   76828.3040\n",
            "12  Office Supplies     Supplies   46420.3080\n",
            "13  Office Supplies          Art   26705.4100\n",
            "14  Office Supplies    Envelopes   16128.0460\n",
            "15  Office Supplies       Labels   12347.7260\n",
            "16  Office Supplies    Fasteners    3001.9600\n"
          ]
        }
      ],
      "source": [
        "# Actual sales per subcategory\n",
        "subcategory_count_sales = df.groupby([\"Category\", \"Sub-Category\"])[\"Sales\"].sum().reset_index()\n",
        "subcategory_count_sales = subcategory_count_sales.sort_values(by=\"Sales\", ascending = False)\n",
        "\n",
        "print(subcategory_count_sales.reset_index(drop=True))"
      ]
    },
    {
      "cell_type": "code",
      "execution_count": 151,
      "metadata": {
        "colab": {
          "base_uri": "https://localhost:8080/"
        },
        "id": "-fKRds6wybp7",
        "outputId": "e0339ca9-c7e8-46e5-8ef0-6daa28dc0dc2"
      },
      "outputs": [
        {
          "name": "stdout",
          "output_type": "stream",
          "text": [
            "          Category        Sales\n",
            "0       Technology  827455.8730\n",
            "1        Furniture  728658.5757\n",
            "2  Office Supplies  705422.3340\n"
          ]
        }
      ],
      "source": [
        "# Actual sasles per category\n",
        "product_category = df.groupby([\"Category\"])[\"Sales\"].sum().reset_index()\n",
        "top_product_category = product_category.sort_values(by=\"Sales\", ascending = False)\n",
        "\n",
        "print(top_product_category.reset_index(drop=True))"
      ]
    },
    {
      "cell_type": "code",
      "execution_count": 152,
      "metadata": {
        "colab": {
          "base_uri": "https://localhost:8080/",
          "height": 562
        },
        "id": "LHyzzwtdy7GY",
        "outputId": "41b0dfd1-e760-48d1-e37f-1a21567533ae"
      },
      "outputs": [
        {
          "data": {
            "text/plain": [
              "([<matplotlib.patches.Wedge at 0x1bf47560b90>,\n",
              "  <matplotlib.patches.Wedge at 0x1bf47a19b10>,\n",
              "  <matplotlib.patches.Wedge at 0x1bf47a1ba10>],\n",
              " [Text(0.44988564266575465, 1.0037942560720405, 'Technology'),\n",
              "  Text(-1.0842320951134052, -0.18558222955335987, 'Furniture'),\n",
              "  Text(0.6127885417845869, -0.9135043530588783, 'Office Supplies')],\n",
              " [Text(0.24539216872677524, 0.5475241396756584, '36.6%'),\n",
              "  Text(-0.5913993246073119, -0.101226670665469, '32.2%'),\n",
              "  Text(0.33424829551886553, -0.49827510166847905, '31.2%')])"
            ]
          },
          "execution_count": 152,
          "metadata": {},
          "output_type": "execute_result"
        },
        {
          "data": {
            "image/png": "[encoded data removed]",
            "text/plain": [
              "<Figure size 640x480 with 1 Axes>"
            ]
          },
          "metadata": {},
          "output_type": "display_data"
        }
      ],
      "source": [
        "plt.pie(top_product_category[\"Sales\"], labels=top_product_category[\"Category\"], autopct=\"%1.1f%%\")"
      ]
    },
    {
      "cell_type": "code",
      "execution_count": 153,
      "metadata": {
        "colab": {
          "base_uri": "https://localhost:8080/",
          "height": 447
        },
        "id": "vIpmeEEvzWDO",
        "outputId": "8d918269-9e9e-4846-8c72-3f668c6b1ddf"
      },
      "outputs": [
        {
          "data": {
            "text/plain": [
              "<BarContainer object of 17 artists>"
            ]
          },
          "execution_count": 153,
          "metadata": {},
          "output_type": "execute_result"
        },
        {
          "data": {
            "image/png": "[encoded data removed]",
            "text/plain": [
              "<Figure size 640x480 with 1 Axes>"
            ]
          },
          "metadata": {},
          "output_type": "display_data"
        }
      ],
      "source": [
        "subcategory_count_sales = subcategory_count_sales.sort_values(by=\"Sales\", ascending = True)\n",
        "plt.barh(subcategory_count_sales[\"Sub-Category\"], subcategory_count_sales[\"Sales\"])"
      ]
    },
    {
      "cell_type": "code",
      "execution_count": 154,
      "metadata": {
        "colab": {
          "base_uri": "https://localhost:8080/"
        },
        "id": "IXc0hBjIzx7g",
        "outputId": "b4ee0817-41e5-4c1d-b71d-f04042765b04"
      },
      "outputs": [
        {
          "name": "stdout",
          "output_type": "stream",
          "text": [
            "   Year  Total Sales\n",
            "0  2015  479856.2081\n",
            "1  2016  459436.0054\n",
            "2  2017  600192.5500\n",
            "3  2018  722052.0192\n"
          ]
        }
      ],
      "source": [
        "# Actual sales per year\n",
        "df[\"Order Date\"] = pd.to_datetime(df[\"Order Date\"], dayfirst = True)\n",
        "yearly_sales = df.groupby(df[\"Order Date\"].dt.year)[\"Sales\"].sum()\n",
        "yearly_sales = yearly_sales.reset_index()\n",
        "yearly_sales = yearly_sales.rename(columns={\"Order Date\":\"Year\", \"Sales\":\"Total Sales\"})\n",
        "\n",
        "print (yearly_sales)"
      ]
    },
    {
      "cell_type": "code",
      "execution_count": 155,
      "metadata": {
        "colab": {
          "base_uri": "https://localhost:8080/",
          "height": 447
        },
        "id": "RG3Je93m-zV5",
        "outputId": "12b823ff-9ca6-4dfc-e3c1-a10fee0ea6bc"
      },
      "outputs": [
        {
          "data": {
            "text/plain": [
              "<BarContainer object of 4 artists>"
            ]
          },
          "execution_count": 155,
          "metadata": {},
          "output_type": "execute_result"
        },
        {
          "data": {
            "image/png": "[encoded data removed]",
            "text/plain": [
              "<Figure size 640x480 with 1 Axes>"
            ]
          },
          "metadata": {},
          "output_type": "display_data"
        }
      ],
      "source": [
        "plt.bar(yearly_sales[\"Year\"], yearly_sales[\"Total Sales\"])"
      ]
    },
    {
      "cell_type": "code",
      "execution_count": 156,
      "metadata": {
        "colab": {
          "base_uri": "https://localhost:8080/",
          "height": 955
        },
        "id": "1wVl0XXu_l4L",
        "outputId": "32ad71f4-1705-4678-d04e-41cec1213882"
      },
      "outputs": [
        {
          "data": {
            "text/html": [
              "<div>\n",
              "<style scoped>\n",
              "    .dataframe tbody tr th:only-of-type {\n",
              "        vertical-align: middle;\n",
              "    }\n",
              "\n",
              "    .dataframe tbody tr th {\n",
              "        vertical-align: top;\n",
              "    }\n",
              "\n",
              "    .dataframe thead th {\n",
              "        text-align: right;\n",
              "    }\n",
              "</style>\n",
              "<table border=\"1\" class=\"dataframe\">\n",
              "  <thead>\n",
              "    <tr style=\"text-align: right;\">\n",
              "      <th></th>\n",
              "      <th>Row ID</th>\n",
              "      <th>Order ID</th>\n",
              "      <th>Order Date</th>\n",
              "      <th>Ship Date</th>\n",
              "      <th>Ship Mode</th>\n",
              "      <th>Customer ID</th>\n",
              "      <th>Customer Name</th>\n",
              "      <th>Segment</th>\n",
              "      <th>Country</th>\n",
              "      <th>City</th>\n",
              "      <th>State</th>\n",
              "      <th>Postal Code</th>\n",
              "      <th>Region</th>\n",
              "      <th>Product ID</th>\n",
              "      <th>Category</th>\n",
              "      <th>Sub-Category</th>\n",
              "      <th>Product Name</th>\n",
              "      <th>Sales</th>\n",
              "    </tr>\n",
              "  </thead>\n",
              "  <tbody>\n",
              "    <tr>\n",
              "      <th>0</th>\n",
              "      <td>1</td>\n",
              "      <td>CA-2017-152156</td>\n",
              "      <td>2017-11-08</td>\n",
              "      <td>11/11/2017</td>\n",
              "      <td>Second Class</td>\n",
              "      <td>CG-12520</td>\n",
              "      <td>Claire Gute</td>\n",
              "      <td>Consumer</td>\n",
              "      <td>United States</td>\n",
              "      <td>Henderson</td>\n",
              "      <td>Kentucky</td>\n",
              "      <td>42420</td>\n",
              "      <td>South</td>\n",
              "      <td>FUR-BO-10001798</td>\n",
              "      <td>Furniture</td>\n",
              "      <td>Bookcases</td>\n",
              "      <td>Bush Somerset Collection Bookcase</td>\n",
              "      <td>261.9600</td>\n",
              "    </tr>\n",
              "    <tr>\n",
              "      <th>1</th>\n",
              "      <td>2</td>\n",
              "      <td>CA-2017-152156</td>\n",
              "      <td>2017-11-08</td>\n",
              "      <td>11/11/2017</td>\n",
              "      <td>Second Class</td>\n",
              "      <td>CG-12520</td>\n",
              "      <td>Claire Gute</td>\n",
              "      <td>Consumer</td>\n",
              "      <td>United States</td>\n",
              "      <td>Henderson</td>\n",
              "      <td>Kentucky</td>\n",
              "      <td>42420</td>\n",
              "      <td>South</td>\n",
              "      <td>FUR-CH-10000454</td>\n",
              "      <td>Furniture</td>\n",
              "      <td>Chairs</td>\n",
              "      <td>Hon Deluxe Fabric Upholstered Stacking Chairs,...</td>\n",
              "      <td>731.9400</td>\n",
              "    </tr>\n",
              "    <tr>\n",
              "      <th>2</th>\n",
              "      <td>3</td>\n",
              "      <td>CA-2017-138688</td>\n",
              "      <td>2017-06-12</td>\n",
              "      <td>16/06/2017</td>\n",
              "      <td>Second Class</td>\n",
              "      <td>DV-13045</td>\n",
              "      <td>Darrin Van Huff</td>\n",
              "      <td>Corporate</td>\n",
              "      <td>United States</td>\n",
              "      <td>Los Angeles</td>\n",
              "      <td>California</td>\n",
              "      <td>90036</td>\n",
              "      <td>West</td>\n",
              "      <td>OFF-LA-10000240</td>\n",
              "      <td>Office Supplies</td>\n",
              "      <td>Labels</td>\n",
              "      <td>Self-Adhesive Address Labels for Typewriters b...</td>\n",
              "      <td>14.6200</td>\n",
              "    </tr>\n",
              "    <tr>\n",
              "      <th>3</th>\n",
              "      <td>4</td>\n",
              "      <td>US-2016-108966</td>\n",
              "      <td>2016-10-11</td>\n",
              "      <td>18/10/2016</td>\n",
              "      <td>Standard Class</td>\n",
              "      <td>SO-20335</td>\n",
              "      <td>Sean O'Donnell</td>\n",
              "      <td>Consumer</td>\n",
              "      <td>United States</td>\n",
              "      <td>Fort Lauderdale</td>\n",
              "      <td>Florida</td>\n",
              "      <td>33311</td>\n",
              "      <td>South</td>\n",
              "      <td>FUR-TA-10000577</td>\n",
              "      <td>Furniture</td>\n",
              "      <td>Tables</td>\n",
              "      <td>Bretford CR4500 Series Slim Rectangular Table</td>\n",
              "      <td>957.5775</td>\n",
              "    </tr>\n",
              "    <tr>\n",
              "      <th>4</th>\n",
              "      <td>5</td>\n",
              "      <td>US-2016-108966</td>\n",
              "      <td>2016-10-11</td>\n",
              "      <td>18/10/2016</td>\n",
              "      <td>Standard Class</td>\n",
              "      <td>SO-20335</td>\n",
              "      <td>Sean O'Donnell</td>\n",
              "      <td>Consumer</td>\n",
              "      <td>United States</td>\n",
              "      <td>Fort Lauderdale</td>\n",
              "      <td>Florida</td>\n",
              "      <td>33311</td>\n",
              "      <td>South</td>\n",
              "      <td>OFF-ST-10000760</td>\n",
              "      <td>Office Supplies</td>\n",
              "      <td>Storage</td>\n",
              "      <td>Eldon Fold 'N Roll Cart System</td>\n",
              "      <td>22.3680</td>\n",
              "    </tr>\n",
              "    <tr>\n",
              "      <th>5</th>\n",
              "      <td>6</td>\n",
              "      <td>CA-2015-115812</td>\n",
              "      <td>2015-06-09</td>\n",
              "      <td>14/06/2015</td>\n",
              "      <td>Standard Class</td>\n",
              "      <td>BH-11710</td>\n",
              "      <td>Brosina Hoffman</td>\n",
              "      <td>Consumer</td>\n",
              "      <td>United States</td>\n",
              "      <td>Los Angeles</td>\n",
              "      <td>California</td>\n",
              "      <td>90032</td>\n",
              "      <td>West</td>\n",
              "      <td>FUR-FU-10001487</td>\n",
              "      <td>Furniture</td>\n",
              "      <td>Furnishings</td>\n",
              "      <td>Eldon Expressions Wood and Plastic Desk Access...</td>\n",
              "      <td>48.8600</td>\n",
              "    </tr>\n",
              "    <tr>\n",
              "      <th>6</th>\n",
              "      <td>7</td>\n",
              "      <td>CA-2015-115812</td>\n",
              "      <td>2015-06-09</td>\n",
              "      <td>14/06/2015</td>\n",
              "      <td>Standard Class</td>\n",
              "      <td>BH-11710</td>\n",
              "      <td>Brosina Hoffman</td>\n",
              "      <td>Consumer</td>\n",
              "      <td>United States</td>\n",
              "      <td>Los Angeles</td>\n",
              "      <td>California</td>\n",
              "      <td>90032</td>\n",
              "      <td>West</td>\n",
              "      <td>OFF-AR-10002833</td>\n",
              "      <td>Office Supplies</td>\n",
              "      <td>Art</td>\n",
              "      <td>Newell 322</td>\n",
              "      <td>7.2800</td>\n",
              "    </tr>\n",
              "    <tr>\n",
              "      <th>7</th>\n",
              "      <td>8</td>\n",
              "      <td>CA-2015-115812</td>\n",
              "      <td>2015-06-09</td>\n",
              "      <td>14/06/2015</td>\n",
              "      <td>Standard Class</td>\n",
              "      <td>BH-11710</td>\n",
              "      <td>Brosina Hoffman</td>\n",
              "      <td>Consumer</td>\n",
              "      <td>United States</td>\n",
              "      <td>Los Angeles</td>\n",
              "      <td>California</td>\n",
              "      <td>90032</td>\n",
              "      <td>West</td>\n",
              "      <td>TEC-PH-10002275</td>\n",
              "      <td>Technology</td>\n",
              "      <td>Phones</td>\n",
              "      <td>Mitel 5320 IP Phone VoIP phone</td>\n",
              "      <td>907.1520</td>\n",
              "    </tr>\n",
              "    <tr>\n",
              "      <th>8</th>\n",
              "      <td>9</td>\n",
              "      <td>CA-2015-115812</td>\n",
              "      <td>2015-06-09</td>\n",
              "      <td>14/06/2015</td>\n",
              "      <td>Standard Class</td>\n",
              "      <td>BH-11710</td>\n",
              "      <td>Brosina Hoffman</td>\n",
              "      <td>Consumer</td>\n",
              "      <td>United States</td>\n",
              "      <td>Los Angeles</td>\n",
              "      <td>California</td>\n",
              "      <td>90032</td>\n",
              "      <td>West</td>\n",
              "      <td>OFF-BI-10003910</td>\n",
              "      <td>Office Supplies</td>\n",
              "      <td>Binders</td>\n",
              "      <td>DXL Angle-View Binders with Locking Rings by S...</td>\n",
              "      <td>18.5040</td>\n",
              "    </tr>\n",
              "    <tr>\n",
              "      <th>9</th>\n",
              "      <td>10</td>\n",
              "      <td>CA-2015-115812</td>\n",
              "      <td>2015-06-09</td>\n",
              "      <td>14/06/2015</td>\n",
              "      <td>Standard Class</td>\n",
              "      <td>BH-11710</td>\n",
              "      <td>Brosina Hoffman</td>\n",
              "      <td>Consumer</td>\n",
              "      <td>United States</td>\n",
              "      <td>Los Angeles</td>\n",
              "      <td>California</td>\n",
              "      <td>90032</td>\n",
              "      <td>West</td>\n",
              "      <td>OFF-AP-10002892</td>\n",
              "      <td>Office Supplies</td>\n",
              "      <td>Appliances</td>\n",
              "      <td>Belkin F5C206VTEL 6 Outlet Surge</td>\n",
              "      <td>114.9000</td>\n",
              "    </tr>\n",
              "  </tbody>\n",
              "</table>\n",
              "</div>"
            ],
            "text/plain": [
              "   Row ID        Order ID Order Date   Ship Date       Ship Mode Customer ID  \\\n",
              "0       1  CA-2017-152156 2017-11-08  11/11/2017    Second Class    CG-12520   \n",
              "1       2  CA-2017-152156 2017-11-08  11/11/2017    Second Class    CG-12520   \n",
              "2       3  CA-2017-138688 2017-06-12  16/06/2017    Second Class    DV-13045   \n",
              "3       4  US-2016-108966 2016-10-11  18/10/2016  Standard Class    SO-20335   \n",
              "4       5  US-2016-108966 2016-10-11  18/10/2016  Standard Class    SO-20335   \n",
              "5       6  CA-2015-115812 2015-06-09  14/06/2015  Standard Class    BH-11710   \n",
              "6       7  CA-2015-115812 2015-06-09  14/06/2015  Standard Class    BH-11710   \n",
              "7       8  CA-2015-115812 2015-06-09  14/06/2015  Standard Class    BH-11710   \n",
              "8       9  CA-2015-115812 2015-06-09  14/06/2015  Standard Class    BH-11710   \n",
              "9      10  CA-2015-115812 2015-06-09  14/06/2015  Standard Class    BH-11710   \n",
              "\n",
              "     Customer Name    Segment        Country             City       State  \\\n",
              "0      Claire Gute   Consumer  United States        Henderson    Kentucky   \n",
              "1      Claire Gute   Consumer  United States        Henderson    Kentucky   \n",
              "2  Darrin Van Huff  Corporate  United States      Los Angeles  California   \n",
              "3   Sean O'Donnell   Consumer  United States  Fort Lauderdale     Florida   \n",
              "4   Sean O'Donnell   Consumer  United States  Fort Lauderdale     Florida   \n",
              "5  Brosina Hoffman   Consumer  United States      Los Angeles  California   \n",
              "6  Brosina Hoffman   Consumer  United States      Los Angeles  California   \n",
              "7  Brosina Hoffman   Consumer  United States      Los Angeles  California   \n",
              "8  Brosina Hoffman   Consumer  United States      Los Angeles  California   \n",
              "9  Brosina Hoffman   Consumer  United States      Los Angeles  California   \n",
              "\n",
              "   Postal Code Region       Product ID         Category Sub-Category  \\\n",
              "0        42420  South  FUR-BO-10001798        Furniture    Bookcases   \n",
              "1        42420  South  FUR-CH-10000454        Furniture       Chairs   \n",
              "2        90036   West  OFF-LA-10000240  Office Supplies       Labels   \n",
              "3        33311  South  FUR-TA-10000577        Furniture       Tables   \n",
              "4        33311  South  OFF-ST-10000760  Office Supplies      Storage   \n",
              "5        90032   West  FUR-FU-10001487        Furniture  Furnishings   \n",
              "6        90032   West  OFF-AR-10002833  Office Supplies          Art   \n",
              "7        90032   West  TEC-PH-10002275       Technology       Phones   \n",
              "8        90032   West  OFF-BI-10003910  Office Supplies      Binders   \n",
              "9        90032   West  OFF-AP-10002892  Office Supplies   Appliances   \n",
              "\n",
              "                                        Product Name     Sales  \n",
              "0                  Bush Somerset Collection Bookcase  261.9600  \n",
              "1  Hon Deluxe Fabric Upholstered Stacking Chairs,...  731.9400  \n",
              "2  Self-Adhesive Address Labels for Typewriters b...   14.6200  \n",
              "3      Bretford CR4500 Series Slim Rectangular Table  957.5775  \n",
              "4                     Eldon Fold 'N Roll Cart System   22.3680  \n",
              "5  Eldon Expressions Wood and Plastic Desk Access...   48.8600  \n",
              "6                                         Newell 322    7.2800  \n",
              "7                     Mitel 5320 IP Phone VoIP phone  907.1520  \n",
              "8  DXL Angle-View Binders with Locking Rings by S...   18.5040  \n",
              "9                   Belkin F5C206VTEL 6 Outlet Surge  114.9000  "
            ]
          },
          "execution_count": 156,
          "metadata": {},
          "output_type": "execute_result"
        }
      ],
      "source": [
        "df.head(10)"
      ]
    },
    {
      "cell_type": "code",
      "execution_count": 157,
      "metadata": {
        "colab": {
          "base_uri": "https://localhost:8080/",
          "height": 447
        },
        "id": "uCkXof2-_m3u",
        "outputId": "a527c675-3f6a-405b-806b-7b759e12fc67"
      },
      "outputs": [
        {
          "data": {
            "text/plain": [
              "[<matplotlib.lines.Line2D at 0x1bf47c78350>]"
            ]
          },
          "execution_count": 157,
          "metadata": {},
          "output_type": "execute_result"
        },
        {
          "data": {
            "image/png": "[encoded data removed]",
            "text/plain": [
              "<Figure size 640x480 with 1 Axes>"
            ]
          },
          "metadata": {},
          "output_type": "display_data"
        }
      ],
      "source": [
        "plt.plot(yearly_sales[\"Year\"], yearly_sales[\"Total Sales\"], marker=\"o\", linestyle=\"-\")"
      ]
    },
    {
      "cell_type": "code",
      "execution_count": 158,
      "metadata": {
        "colab": {
          "base_uri": "https://localhost:8080/"
        },
        "id": "lLjj-71W_4vy",
        "outputId": "96c6f425-a1cc-4e32-9b2e-095b6b341bc2"
      },
      "outputs": [
        {
          "name": "stdout",
          "output_type": "stream",
          "text": [
            "     Quarter  Total Sales\n",
            "0 2018-03-31  122260.8842\n",
            "1 2018-06-30  127558.6200\n",
            "2 2018-09-30  193815.8400\n",
            "3 2018-12-31  278416.6750\n"
          ]
        }
      ],
      "source": [
        "# Quarterly look at the most profitable year (2018)\n",
        "df[\"Order Date\"] = pd.to_datetime(df[\"Order Date\"], dayfirst=True)\n",
        "year_sales = df[df[\"Order Date\"].dt.year == 2018]\n",
        "quarterly_sales = year_sales.resample(\"QE\", on=\"Order Date\")[\"Sales\"].sum()\n",
        "quarterly_sales = quarterly_sales.reset_index()\n",
        "quarterly_sales = quarterly_sales.rename(columns = {\"Order Date\": \"Quarter\", \"Sales\" : \"Total Sales\"})\n",
        "\n",
        "print(quarterly_sales)"
      ]
    },
    {
      "cell_type": "code",
      "execution_count": 159,
      "metadata": {
        "colab": {
          "base_uri": "https://localhost:8080/",
          "height": 532
        },
        "id": "peFDyXVmAs6W",
        "outputId": "0ab896dc-7cbd-4e29-f6e2-c479a85681cc"
      },
      "outputs": [
        {
          "data": {
            "image/png": "[encoded data removed]",
            "text/plain": [
              "<Figure size 640x480 with 1 Axes>"
            ]
          },
          "metadata": {},
          "output_type": "display_data"
        }
      ],
      "source": [
        "plt.plot(quarterly_sales[\"Quarter\"], quarterly_sales[\"Total Sales\"], marker = \"o\", linestyle = \"--\")\n",
        "\n",
        "plt.tight_layout()\n",
        "plt.xticks(rotation=75)\n",
        "plt.show()"
      ]
    },
    {
      "cell_type": "code",
      "execution_count": 160,
      "metadata": {
        "colab": {
          "base_uri": "https://localhost:8080/"
        },
        "id": "n38DRbiSBSvs",
        "outputId": "5945b337-b137-4826-b376-1168c9bc7648"
      },
      "outputs": [
        {
          "name": "stdout",
          "output_type": "stream",
          "text": [
            "        Month  Total Monthly Sales\n",
            "0  2018-01-31           43476.4740\n",
            "1  2018-02-28           19920.9974\n",
            "2  2018-03-31           58863.4128\n",
            "3  2018-04-30           35541.9101\n",
            "4  2018-05-31           43825.9822\n",
            "5  2018-06-30           48190.7277\n",
            "6  2018-07-31           44825.1040\n",
            "7  2018-08-31           62837.8480\n",
            "8  2018-09-30           86152.8880\n",
            "9  2018-10-31           77448.1312\n",
            "10 2018-11-30          117938.1550\n",
            "11 2018-12-31           83030.3888\n"
          ]
        }
      ],
      "source": [
        "# Monthly look at the most profitable year (2018)\n",
        "df[\"Order Date\"] = pd.to_datetime(df[\"Order Date\"], dayfirst = True)\n",
        "yearly_sales = df[df[\"Order Date\"].dt.year == 2018]\n",
        "monthly_sales = yearly_sales.resample(\"ME\", on = \"Order Date\")[\"Sales\"].sum()\n",
        "monthly_sales = monthly_sales.reset_index()\n",
        "monthly_sales = monthly_sales.rename(columns={\"Order Date\":\"Month\", \"Sales\":\"Total Monthly Sales\"})\n",
        "\n",
        "print (monthly_sales)"
      ]
    },
    {
      "cell_type": "code",
      "execution_count": 161,
      "metadata": {
        "colab": {
          "base_uri": "https://localhost:8080/",
          "height": 447
        },
        "id": "6SmbDJ_-D9w1",
        "outputId": "ee483bf6-00c2-4c8f-a149-16dddd7aafa3"
      },
      "outputs": [
        {
          "data": {
            "text/plain": [
              "[<matplotlib.lines.Line2D at 0x1bf47b33510>]"
            ]
          },
          "execution_count": 161,
          "metadata": {},
          "output_type": "execute_result"
        },
        {
          "data": {
            "image/png": "[encoded data removed]",
            "text/plain": [
              "<Figure size 640x480 with 1 Axes>"
            ]
          },
          "metadata": {},
          "output_type": "display_data"
        }
      ],
      "source": [
        "plt.plot(monthly_sales[\"Month\"], monthly_sales[\"Total Monthly Sales\"], marker = \"o\", linestyle = \"--\")"
      ]
    }
  ],
  "metadata": {
    "colab": {
      "provenance": []
    },
    "kernelspec": {
      "display_name": "Python 3",
      "name": "python3"
    },
    "language_info": {
      "codemirror_mode": {
        "name": "ipython",
        "version": 3
      },
      "file_extension": ".py",
      "mimetype": "text/x-python",
      "name": "python",
      "nbconvert_exporter": "python",
      "pygments_lexer": "ipython3",
      "version": "3.11.9"
    }
  },
  "nbformat": 4,
  "nbformat_minor": 0
}
